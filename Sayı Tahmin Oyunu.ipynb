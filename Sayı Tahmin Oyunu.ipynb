{
 "cells": [
  {
   "cell_type": "code",
   "execution_count": 3,
   "metadata": {},
   "outputs": [
    {
     "name": "stdout",
     "output_type": "stream",
     "text": [
      "1 ile 100 arasında sayı belirledim. Bunu tahmin edebilir misin? :)\n",
      "Daha düşük bir sayı söyleyin.\n",
      "Daha yüksek bir sayı söyleyin.\n",
      "Daha yüksek bir sayı söyleyin.\n",
      "Daha yüksek bir sayı söyleyin.\n",
      "Daha yüksek bir sayı söyleyin.\n",
      "Daha düşük bir sayı söyleyin.\n",
      "Daha düşük bir sayı söyleyin.\n",
      "Daha düşük bir sayı söyleyin.\n",
      "Daha yüksek bir sayı söyleyin.\n",
      "Daha düşük bir sayı söyleyin.\n",
      "Tebrikler! 13 doğru tahmin. 11 denemede bildiniz.\n"
     ]
    }
   ],
   "source": [
    "import random \n",
    "\n",
    "print(\"1 ile 100 arasında sayı belirledim. Bunu tahmin edebilir misin? :)\")\n",
    "\n",
    "gizli_sayi = random.randint(1, 100)\n",
    "denemeler = 0\n",
    "\n",
    "while True:\n",
    "    tahmin = input(\"Tahmininizi girin: \")\n",
    "\n",
    "    if not tahmin.isdigit():\n",
    "        print(\"Lütfen geçerli bir sayı girin.\")\n",
    "        continue\n",
    "\n",
    "    tahmin = int(tahmin)\n",
    "    denemeler += 1\n",
    "\n",
    "    if tahmin < gizli_sayi:\n",
    "        print(\"Daha yüksek bir sayı söyleyin.\")\n",
    "    elif tahmin > gizli_sayi:\n",
    "        print(\"Daha düşük bir sayı söyleyin.\")\n",
    "    else:\n",
    "        print(f\"Tebrikler! {tahmin} doğru tahmin. {denemeler} denemede bildiniz.\")\n",
    "        break"
   ]
  }
 ],
 "metadata": {
  "kernelspec": {
   "display_name": "base",
   "language": "python",
   "name": "python3"
  },
  "language_info": {
   "codemirror_mode": {
    "name": "ipython",
    "version": 3
   },
   "file_extension": ".py",
   "mimetype": "text/x-python",
   "name": "python",
   "nbconvert_exporter": "python",
   "pygments_lexer": "ipython3",
   "version": "3.12.4"
  }
 },
 "nbformat": 4,
 "nbformat_minor": 2
}
